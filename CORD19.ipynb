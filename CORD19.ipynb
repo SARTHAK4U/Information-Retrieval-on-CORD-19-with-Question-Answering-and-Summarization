{
 "cells": [
  {
   "cell_type": "code",
   "execution_count": 1,
   "id": "5dac7350",
   "metadata": {},
   "outputs": [],
   "source": [
    "import os\n",
    "os.environ['TF_CPP_MIN_LOG_LEVEL'] = '3' \n",
    "\n",
    "import warnings\n",
    "warnings.filterwarnings('ignore')\n",
    "\n",
    "import re\n",
    "import json\n",
    "import random\n",
    "import sent2vec\n",
    "\n",
    "import numpy as np\n",
    "import pandas as pd\n",
    "import networkx as nx\n",
    "import tqdm.notebook as tqdm\n",
    "\n",
    "from rank_bm25 import BM25Okapi\n",
    "\n",
    "from collections import defaultdict\n",
    "\n",
    "from transformers import pipeline\n",
    "from transformers import BertTokenizer\n",
    "from transformers import BertForQuestionAnswering\n",
    "from transformers import T5Tokenizer\n",
    "from transformers import T5ForConditionalGeneration\n",
    "\n",
    "from nltk import word_tokenize\n",
    "from spacy.lang.en.stop_words import STOP_WORDS\n",
    "\n",
    "from sentence_splitter import SentenceSplitter \n",
    "from sentence_splitter import split_text_into_sentences"
   ]
  },
  {
   "cell_type": "code",
   "execution_count": 2,
   "id": "9e016865",
   "metadata": {},
   "outputs": [],
   "source": [
    "biosentvec = sent2vec.Sent2vecModel()\n",
    "biosentvec.load_model('bio_sent_vec.file')"
   ]
  },
  {
   "cell_type": "code",
   "execution_count": 3,
   "id": "7fb0bbb6",
   "metadata": {},
   "outputs": [],
   "source": [
    "t5_tokenizer = T5Tokenizer.from_pretrained('t5-large')\n",
    "t5 = T5ForConditionalGeneration.from_pretrained('t5-large')"
   ]
  },
  {
   "cell_type": "code",
   "execution_count": 4,
   "id": "4326516e",
   "metadata": {},
   "outputs": [],
   "source": [
    "bertqa = pipeline('question-answering', model = 'ptnv-s/biobert_squad2_cased-finetuned-squad')"
   ]
  },
  {
   "cell_type": "code",
   "execution_count": 5,
   "id": "18fea789",
   "metadata": {},
   "outputs": [
    {
     "name": "stdout",
     "output_type": "stream",
     "text": [
      "1000\n"
     ]
    }
   ],
   "source": [
    "directory = 'dataset/cord19/pdf_json'\n",
    "article_names = os.listdir(directory)\n",
    "\n",
    "random.seed(1811)\n",
    "article_names = random.sample(article_names, 1000)\n",
    "\n",
    "print(len(article_names))"
   ]
  },
  {
   "cell_type": "code",
   "execution_count": 6,
   "id": "6eee0b5f",
   "metadata": {},
   "outputs": [],
   "source": [
    "stopwords = set(STOP_WORDS)\n",
    "\n",
    "custom_stop_words = [\n",
    "    'doi', 'preprint', 'copyright', 'peer', 'reviewed', 'org', 'https', 'et', 'al', 'author', 'figure', \n",
    "    'rights', 'reserved', 'permission', 'used', 'using', 'biorxiv', 'medrxiv', 'license', 'fig', 'fig.', \n",
    "    'al.', 'Elsevier', 'PMC', 'CZI','table'\n",
    "]\n",
    "\n",
    "stopwords |= set(custom_stop_words)\n",
    "\n",
    "stopwords = set([word.lower() for word in stopwords])\n",
    "\n",
    "splitter = SentenceSplitter(language = 'en')\n",
    "\n",
    "def clean(text):\n",
    "    text = text.split()\n",
    "    text = ' '.join(text)\n",
    "    text = text.lower()\n",
    "    text = text.strip()\n",
    "    return text\n",
    "\n",
    "def remove_stopwords(text):\n",
    "    filtered_text = []\n",
    "    for word in word_tokenize(text):\n",
    "        if word not in stopwords:\n",
    "            filtered_text.append(word)\n",
    "    filtered_text = ' '.join(filtered_text)\n",
    "    return filtered_text\n",
    "\n",
    "def further_preprocess(sent):\n",
    "    sent = clean(sent)\n",
    "    sent = re.sub('[^a-z ]+', '', sent)\n",
    "    sent = clean(sent)\n",
    "    sent = remove_stopwords(sent)\n",
    "    sent = clean(sent)\n",
    "    return sent"
   ]
  },
  {
   "cell_type": "code",
   "execution_count": 7,
   "id": "d90bc03d",
   "metadata": {},
   "outputs": [
    {
     "data": {
      "application/json": {
       "ascii": false,
       "bar_format": null,
       "colour": null,
       "elapsed": 0.02633500099182129,
       "initial": 0,
       "n": 0,
       "ncols": null,
       "nrows": 24,
       "postfix": null,
       "prefix": "",
       "rate": null,
       "total": 1000,
       "unit": "it",
       "unit_divisor": 1000,
       "unit_scale": false
      },
      "application/vnd.jupyter.widget-view+json": {
       "model_id": "0df0ab1fe7e34467b7b8c4390e9f3c86",
       "version_major": 2,
       "version_minor": 0
      },
      "text/plain": [
       "  0%|          | 0/1000 [00:00<?, ?it/s]"
      ]
     },
     "metadata": {},
     "output_type": "display_data"
    },
    {
     "name": "stdout",
     "output_type": "stream",
     "text": [
      "140152\n"
     ]
    }
   ],
   "source": [
    "sents = []\n",
    "\n",
    "for article_name in tqdm.tqdm(article_names):\n",
    "    \n",
    "    text = ''\n",
    "    \n",
    "    file = json.load(open(directory + '/' + article_name))\n",
    "\n",
    "    for abstract_content in file['abstract']:\n",
    "        text += ' ' + abstract_content['text']\n",
    "\n",
    "    for body_content in file['body_text']:\n",
    "        text += ' ' + body_content['text']\n",
    "\n",
    "    for ref_content in file['ref_entries'].values():\n",
    "        text += ' ' + ref_content['text']\n",
    "    \n",
    "    sentences = splitter.split(text = text)\n",
    "    \n",
    "    for sent in sentences:\n",
    "        sent = clean(sent)\n",
    "        if len(sent) <= 200:\n",
    "            sents.append(sent)\n",
    "\n",
    "print(len(sents))"
   ]
  },
  {
   "cell_type": "code",
   "execution_count": 214,
   "id": "0e97879d",
   "metadata": {},
   "outputs": [],
   "source": [
    "query = 'common symptoms of covid 19'\n",
    "# query = 'How to mitigate COVID transmission?'\n",
    "# query = 'various assistance programmes for covid 19'\n",
    "\n",
    "\n",
    "query_copy = query\n",
    "query = clean(query)\n",
    "query = further_preprocess(query)"
   ]
  },
  {
   "cell_type": "code",
   "execution_count": 215,
   "id": "95d563c3",
   "metadata": {},
   "outputs": [],
   "source": [
    "tokenized_sents = []\n",
    "\n",
    "for i in range(len(sents)):\n",
    "    sent = sents[i]\n",
    "    sent = further_preprocess(sent)\n",
    "    tokenized_sents.append(sent.split())\n",
    "\n",
    "bm25 = BM25Okapi(tokenized_sents)\n",
    "bm_scores = bm25.get_scores(query.split())\n",
    "bm_scores = np.array(bm_scores)\n",
    "bm_scores /= np.sum(bm_scores ** 2) ** 0.5"
   ]
  },
  {
   "cell_type": "code",
   "execution_count": 216,
   "id": "adbd265c",
   "metadata": {},
   "outputs": [],
   "source": [
    "def cosine(a, b):\n",
    "    return np.sum(a * b) / ((np.sum(a ** 2) ** 0.5) * (np.sum(b ** 2) ** 0.5))"
   ]
  },
  {
   "cell_type": "code",
   "execution_count": 217,
   "id": "680effa2",
   "metadata": {},
   "outputs": [],
   "source": [
    "query_emb = biosentvec.embed_sentences([query])[0]\n",
    "\n",
    "bioemb = biosentvec.embed_sentences(sents)\n",
    "bioemb_scores = []\n",
    "\n",
    "for i in range(len(sents)):\n",
    "    if np.sum(bioemb[i]):\n",
    "        bioemb_scores.append(cosine(query_emb, bioemb[i]))\n",
    "    else:\n",
    "        bioemb_scores.append(0)\n",
    "bioemb_scores = np.array(bioemb_scores)\n",
    "bioemb_scores /= np.sum(bioemb_scores ** 2) ** 0.5"
   ]
  },
  {
   "cell_type": "code",
   "execution_count": 218,
   "id": "61e32368",
   "metadata": {},
   "outputs": [],
   "source": [
    "tmp = []\n",
    "for i in range(len(sents)):\n",
    "    tmp.append([bm_scores[i] + bioemb_scores[i], i])\n",
    "tmp.sort(reverse = True)\n",
    "\n",
    "ranklist = []\n",
    "for [score, index] in tmp:\n",
    "    ranklist.append(index)\n",
    "\n",
    "rel_sents = []\n",
    "for i in ranklist[: 500]:\n",
    "    rel_sents.append(sents[i])"
   ]
  },
  {
   "cell_type": "code",
   "execution_count": 219,
   "id": "f50f6fc5",
   "metadata": {},
   "outputs": [],
   "source": [
    "tokenized_sents = []\n",
    "\n",
    "for i in range(len(rel_sents)):\n",
    "    sent = rel_sents[i]\n",
    "    tokenized_sents.append(sent.split())\n",
    "\n",
    "bm25 = BM25Okapi(tokenized_sents)\n",
    "bm_scores = bm25.get_scores(query.split())\n",
    "bm_scores = np.array(bm_scores)\n",
    "bm_scores /= np.sum(bm_scores ** 2) ** 0.5"
   ]
  },
  {
   "cell_type": "code",
   "execution_count": 220,
   "id": "7b5f36f3",
   "metadata": {},
   "outputs": [],
   "source": [
    "bioemb = biosentvec.embed_sentences(rel_sents)\n",
    "bioemb_scores = []\n",
    "\n",
    "for i in range(len(rel_sents)):\n",
    "    if np.sum(bioemb[i]):\n",
    "        bioemb_scores.append(cosine(query_emb, bioemb[i]))\n",
    "    else:\n",
    "        bioemb_scores.append(0)\n",
    "bioemb_scores = np.array(bioemb_scores)\n",
    "bioemb_scores /= np.sum(bioemb_scores ** 2) ** 0.5"
   ]
  },
  {
   "cell_type": "code",
   "execution_count": 221,
   "id": "1010244f",
   "metadata": {},
   "outputs": [
    {
     "data": {
      "application/json": {
       "ascii": false,
       "bar_format": null,
       "colour": null,
       "elapsed": 0.016871929168701172,
       "initial": 0,
       "n": 0,
       "ncols": null,
       "nrows": 24,
       "postfix": null,
       "prefix": "",
       "rate": null,
       "total": 500,
       "unit": "it",
       "unit_divisor": 1000,
       "unit_scale": false
      },
      "application/vnd.jupyter.widget-view+json": {
       "model_id": "9a6e4a59b72f4a75844a71d0b53dc3f3",
       "version_major": 2,
       "version_minor": 0
      },
      "text/plain": [
       "  0%|          | 0/500 [00:00<?, ?it/s]"
      ]
     },
     "metadata": {},
     "output_type": "display_data"
    }
   ],
   "source": [
    "adjList = defaultdict(set)\n",
    "for i in tqdm.tqdm(range(len(rel_sents))):\n",
    "    for j in range(i + 1, len(rel_sents)):\n",
    "        if np.sum(bioemb[i]) and np.sum(bioemb[j]) and cosine(bioemb[i], bioemb[j]) >= 0.1:\n",
    "            if cosine(bioemb[i], query_emb) >= 0.1 and cosine(bioemb[j], query_emb) >= 0.1:\n",
    "                adjList[i].add(j)\n",
    "                adjList[j].add(i)\n",
    "\n",
    "G = nx.Graph()\n",
    "G.add_nodes_from(list(range(len(rel_sents))))\n",
    "\n",
    "for i in adjList.keys():\n",
    "    for j in adjList[i]:\n",
    "        G.add_edge(i, j)\n",
    "\n",
    "pagerank = nx.pagerank(G)\n",
    "pr_scores = [0] * len(rel_sents)\n",
    "for key, val in pagerank.items():\n",
    "    pr_scores[key] = val\n",
    "pr_scores = np.array(pr_scores)\n",
    "pr_scores /= np.sum(pr_scores ** 2) ** 0.5"
   ]
  },
  {
   "cell_type": "code",
   "execution_count": 222,
   "id": "fb6f00b7",
   "metadata": {},
   "outputs": [
    {
     "name": "stdout",
     "output_type": "stream",
     "text": [
      "1) some of the family members experienced long covid symptoms and challenging recoveries.\n",
      "2) if the lus is normal despite 3-5 days of symptoms then covid is very unlikely (but not this article is protected by copyright.\n",
      "3) sanders et al. reported a young man with end stage renal disease on hemodialysis catheter presenting with a febrile illness and symptoms of covid 19 along with new-onset systolic murmur.\n",
      "4) i know i'm going to need increased medical support, definitely because of the long covid symptoms.\n",
      "5) the most common symptoms are fever, cough, and difficulty breathing.\n",
      "6) the most common symptoms of covid-19 are fever, cough, and tiredness.\n",
      "7) most common symptoms were fever (42.1%, n=24) and cough (52,6%, n=30).\n",
      "8) one of the most common symptoms associated with covid-19 is fever.\n",
      "9) the most common symptoms of covid-19 are fever, dry cough, and malaise/fatigue.\n",
      "10) covid screening for that visitor depends on resource availability and symptoms, and the management of covid-positive parents is handled on a casespecific basis.\n"
     ]
    }
   ],
   "source": [
    "tmp = []\n",
    "for i in range(len(rel_sents)):\n",
    "    tmp.append([bm_scores[i] + bioemb_scores[i] + pr_scores[i], i])\n",
    "tmp.sort(reverse = True)\n",
    "\n",
    "ranklist = []\n",
    "for [score, index] in tmp:\n",
    "    ranklist.append(index)\n",
    "\n",
    "final_sents = []\n",
    "for i in ranklist[: 10]:\n",
    "    final_sents.append(rel_sents[i])\n",
    "\n",
    "for index, sent in enumerate(final_sents):\n",
    "    print(str(index + 1) + ')', sent)"
   ]
  },
  {
   "cell_type": "code",
   "execution_count": 223,
   "id": "25c3279c",
   "metadata": {},
   "outputs": [
    {
     "name": "stdout",
     "output_type": "stream",
     "text": [
      "the most common symptoms of covid-19 are fever, cough, and tiredness. the most common symptoms of covid-19 are fever, dry cough, and malaise/fatigue. covid screening for that visitor depends on resource availability and symptoms.\n"
     ]
    }
   ],
   "source": [
    "t5_text = 'summarize: ' + ' '.join(final_sents)\n",
    "t5_text = t5_tokenizer.encode(t5_text, return_tensors = 'pt')\n",
    "summary_ids = t5.generate(t5_text, num_beams = 3, min_length = 10, max_length = 60)\n",
    "summary = t5_tokenizer.decode(summary_ids[0], skip_special_tokens = True)\n",
    "\n",
    "print (summary)"
   ]
  },
  {
   "cell_type": "code",
   "execution_count": 224,
   "id": "627fe166",
   "metadata": {},
   "outputs": [
    {
     "name": "stdout",
     "output_type": "stream",
     "text": [
      "fever, cough, and tiredness\n"
     ]
    }
   ],
   "source": [
    "output = bertqa(question = query_copy, context = summary)\n",
    "print(output['answer'])"
   ]
  },
  {
   "cell_type": "code",
   "execution_count": null,
   "id": "e578947b",
   "metadata": {},
   "outputs": [],
   "source": []
  },
  {
   "cell_type": "code",
   "execution_count": null,
   "id": "91d48103",
   "metadata": {},
   "outputs": [],
   "source": []
  },
  {
   "cell_type": "code",
   "execution_count": null,
   "id": "5fe16723",
   "metadata": {},
   "outputs": [],
   "source": []
  }
 ],
 "metadata": {
  "kernelspec": {
   "display_name": "Python 3 (ipykernel)",
   "language": "python",
   "name": "python3"
  },
  "language_info": {
   "codemirror_mode": {
    "name": "ipython",
    "version": 3
   },
   "file_extension": ".py",
   "mimetype": "text/x-python",
   "name": "python",
   "nbconvert_exporter": "python",
   "pygments_lexer": "ipython3",
   "version": "3.8.10"
  }
 },
 "nbformat": 4,
 "nbformat_minor": 5
}
